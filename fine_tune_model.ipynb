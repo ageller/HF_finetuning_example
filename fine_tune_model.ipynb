{
 "cells": [
  {
   "cell_type": "markdown",
   "id": "368b8515",
   "metadata": {},
   "source": [
    "# My attempt at rewriting Emilio's fine tuning code\n",
    "\n",
    "https://github.com/nuitrcs/fine_tuning_workshop"
   ]
  },
  {
   "cell_type": "code",
   "execution_count": null,
   "id": "f639424a",
   "metadata": {},
   "outputs": [],
   "source": [
    "import pandas as pd\n",
    "from sklearn.model_selection import train_test_split"
   ]
  },
  {
   "cell_type": "code",
   "execution_count": null,
   "id": "931b913f",
   "metadata": {},
   "outputs": [],
   "source": [
    "%load_ext autoreload\n",
    "%autoreload 2\n",
    "\n",
    "from finetuner import fineTuner"
   ]
  },
  {
   "cell_type": "code",
   "execution_count": null,
   "id": "ad1cf978",
   "metadata": {},
   "outputs": [],
   "source": [
    "train = pd.read_csv(\"https://raw.githubusercontent.com/MoritzLaurer/less-annotating-with-bert-nli/refs/heads/master/data_clean/df_manifesto_protectionism_train.csv\")\n",
    "test = pd.read_csv(\"https://raw.githubusercontent.com/MoritzLaurer/less-annotating-with-bert-nli/refs/heads/master/data_clean/df_manifesto_protectionism_test.csv\")\n",
    "\n",
    "train = train[train['label'] != 0]\n",
    "test = test[test['label'] != 0]\n",
    "\n",
    "train['label'] = train['label'] - 1\n",
    "test['label'] = test['label'] - 1\n",
    "\n",
    "train['text'] = train['text_preceding'] + \" \" + train['text_original'] + \" \" + train['text_following']\n",
    "test['text'] = test['text_preceding'] + \" \" + test['text_original'] + \" \" + test['text_following']\n",
    "\n",
    "train = train[train['text'].notna()]\n",
    "test = test[test['text'].notna()]\n",
    "\n",
    "SEED = 6325\n",
    "validation, temp = train_test_split(test, test_size=0.5, random_state=SEED)\n",
    "test, new = train_test_split(temp, test_size=0.5, random_state=SEED)"
   ]
  },
  {
   "cell_type": "code",
   "execution_count": null,
   "id": "26189e5f",
   "metadata": {},
   "outputs": [],
   "source": [
    "my_finetuner = fineTuner()"
   ]
  },
  {
   "cell_type": "code",
   "execution_count": null,
   "id": "d9aa98f1",
   "metadata": {},
   "outputs": [],
   "source": [
    "my_finetuner.create_dataset(train, validation, test)"
   ]
  },
  {
   "cell_type": "code",
   "execution_count": null,
   "id": "09b27341",
   "metadata": {},
   "outputs": [],
   "source": [
    "my_finetuner.define_trainer()"
   ]
  },
  {
   "cell_type": "code",
   "execution_count": null,
   "id": "325499e0",
   "metadata": {},
   "outputs": [],
   "source": [
    "training_output, evaluate_output = my_finetuner.train_and_evaluate()"
   ]
  },
  {
   "cell_type": "code",
   "execution_count": null,
   "id": "839c08f4",
   "metadata": {},
   "outputs": [],
   "source": [
    "training_output"
   ]
  },
  {
   "cell_type": "code",
   "execution_count": null,
   "id": "ce515989",
   "metadata": {},
   "outputs": [],
   "source": [
    "evaluate_output"
   ]
  },
  {
   "cell_type": "code",
   "execution_count": null,
   "id": "dfb90edd",
   "metadata": {},
   "outputs": [],
   "source": [
    "# all in one\n",
    "# my_finetuner.create_finetuned_model_from_data(train, validation, test)"
   ]
  },
  {
   "cell_type": "code",
   "execution_count": null,
   "id": "ea904330",
   "metadata": {},
   "outputs": [],
   "source": [
    "predictions, predicted_classes = my_finetuner.predict(new)\n",
    "new['predicted_class'] = predicted_classes"
   ]
  },
  {
   "cell_type": "code",
   "execution_count": null,
   "id": "0259ff3f",
   "metadata": {},
   "outputs": [],
   "source": [
    "pd.crosstab(new['label'], new['predicted_class'], margins=True)"
   ]
  },
  {
   "cell_type": "code",
   "execution_count": null,
   "id": "51a20414",
   "metadata": {},
   "outputs": [],
   "source": [
    "pd.crosstab(new['country_name'], new['predicted_class'], margins=True)"
   ]
  },
  {
   "cell_type": "code",
   "execution_count": null,
   "id": "b5f9b239",
   "metadata": {},
   "outputs": [],
   "source": [
    "# check (should output an error message and not re-fine-tune the model)\n",
    "training_output, evaluate_output = my_finetuner.train_and_evaluate()"
   ]
  },
  {
   "cell_type": "code",
   "execution_count": null,
   "id": "8c78a951",
   "metadata": {},
   "outputs": [],
   "source": []
  }
 ],
 "metadata": {
  "kernelspec": {
   "display_name": "Python 3",
   "language": "python",
   "name": "python3"
  },
  "language_info": {
   "codemirror_mode": {
    "name": "ipython",
    "version": 3
   },
   "file_extension": ".py",
   "mimetype": "text/x-python",
   "name": "python",
   "nbconvert_exporter": "python",
   "pygments_lexer": "ipython3",
   "version": "3.11.11"
  }
 },
 "nbformat": 4,
 "nbformat_minor": 5
}
